{
 "cells": [
  {
   "cell_type": "code",
   "execution_count": 1,
   "metadata": {},
   "outputs": [
    {
     "name": "stdout",
     "output_type": "stream",
     "text": [
      "你想知道北京的天气?\n"
     ]
    }
   ],
   "source": [
    "from langchain.prompts import PromptTemplate\n",
    "\n",
    "prompt = PromptTemplate(\n",
    "    input_variables=[\"城市\"],\n",
    "    template=\"你想知道{城市}的天气?\",\n",
    ")\n",
    "print(prompt.format(城市=\"北京\"))"
   ]
  },
  {
   "cell_type": "code",
   "execution_count": 6,
   "metadata": {},
   "outputs": [
    {
     "name": "stdout",
     "output_type": "stream",
     "text": [
      "你想知道北京的29/04/2024, 16:15:44天气?\n"
     ]
    }
   ],
   "source": [
    "from datetime import datetime\n",
    "\n",
    "def _getdate():\n",
    "    now =  datetime.now()\n",
    "    return now.strftime('%d/%m/%Y, %H:%M:%S')\n",
    "\n",
    "prompt = PromptTemplate(\n",
    "    input_variables=[\"城市\",\"时间\"],\n",
    "    template=\"你想知道{城市}的{时间}天气?\",\n",
    ")\n",
    "partial_prompt = prompt.partial(城市=\"北京\")\n",
    "print(partial_prompt.format(时间=_getdate()))"
   ]
  },
  {
   "cell_type": "code",
   "execution_count": 17,
   "metadata": {},
   "outputs": [
    {
     "name": "stdout",
     "output_type": "stream",
     "text": [
      "问题:你是谁\n",
      "回答:帅哥，我是张三\n",
      "\n",
      "问题:今天周几\n",
      "回答:帅哥，今天周一\n",
      "\n",
      "问题:今天天气咋样\n",
      "回答:帅哥，今天有雨\n",
      "\n",
      "问题:你今年多大\n"
     ]
    }
   ],
   "source": [
    "from langchain.prompts.few_shot import FewShotPromptTemplate\n",
    "\n",
    "examples = [\n",
    "    {\n",
    "        \"question\":\"你是谁\",\n",
    "        \"answer\":\"帅哥，我是张三\"\n",
    "    },\n",
    "    {\n",
    "        \"question\":\"今天周几\",\n",
    "        \"answer\":\"帅哥，今天周一\"\n",
    "    },\n",
    "    {\n",
    "        \"question\":\"今天天气咋样\",\n",
    "        \"answer\":\"帅哥，今天有雨\"\n",
    "    }\n",
    "]\n",
    "\n",
    "example_prompt = PromptTemplate(input_variables=[\"question\",\"answer\"],template=\"问题:{question}\\n回答:{answer}\")\n",
    "prompt = FewShotPromptTemplate(\n",
    "    examples=examples,\n",
    "    example_prompt=example_prompt,\n",
    "    suffix=\"问题:{question}\",\n",
    "    input_variables=[\"question\"]\n",
    ")\n",
    "\n",
    "print(prompt.format(question=\"你今年多大\"))"
   ]
  },
  {
   "cell_type": "code",
   "execution_count": 22,
   "metadata": {},
   "outputs": [
    {
     "data": {
      "text/plain": [
       "'帅哥，我今年24岁！ 🤩'"
      ]
     },
     "execution_count": 22,
     "metadata": {},
     "output_type": "execute_result"
    }
   ],
   "source": [
    "from langchain.llms import Ollama\n",
    "ollama = Ollama(base_url='http://10.0.21.170:11434', model=\"llama3\")\n",
    "ollama.predict(prompt.format(question=\"你今年多大\"))"
   ]
  },
  {
   "cell_type": "code",
   "execution_count": 13,
   "metadata": {},
   "outputs": [
    {
     "name": "stdout",
     "output_type": "stream",
     "text": [
      "\u001b[1m冷淡AI\u001b[0m\n",
      "Params: {}\n"
     ]
    }
   ],
   "source": [
    "from langchain.llms.base import LLM\n",
    "from langchain.callbacks.manager import CallbackManagerForLLMRun\n",
    "from typing import Optional,List,Any\n",
    "\n",
    "class 冷淡AI(LLM):\n",
    "    @property\n",
    "    def _llm_type(self) -> str:\n",
    "        return \"冷淡AI\"\n",
    "    \n",
    "    def _call(\n",
    "        self,\n",
    "        prompt: str,\n",
    "        stop: Optional[List[str]] = None,\n",
    "        run_manager: Optional[CallbackManagerForLLMRun] = None,\n",
    "        **kwargs: Any,\n",
    "    ) -> str:\n",
    "        if stop is not None:\n",
    "            raise ValueError(\"异常\")\n",
    "        pd = prompt.find(\"吗\")\n",
    "        if pd>=0:\n",
    "            return prompt[0:pd]+\"。\"\n",
    "        return \"哦\"\n",
    "    \n",
    "llm = 冷淡AI()\n",
    "print(llm)"
   ]
  },
  {
   "cell_type": "code",
   "execution_count": 14,
   "metadata": {},
   "outputs": [
    {
     "data": {
      "text/plain": [
       "'你好。'"
      ]
     },
     "execution_count": 14,
     "metadata": {},
     "output_type": "execute_result"
    }
   ],
   "source": [
    "llm(\"你好吗？\")"
   ]
  },
  {
   "cell_type": "code",
   "execution_count": 15,
   "metadata": {},
   "outputs": [
    {
     "data": {
      "text/plain": [
       "'吃了。'"
      ]
     },
     "execution_count": 15,
     "metadata": {},
     "output_type": "execute_result"
    }
   ],
   "source": [
    "llm(\"吃了吗？\")"
   ]
  },
  {
   "cell_type": "code",
   "execution_count": 16,
   "metadata": {},
   "outputs": [
    {
     "data": {
      "text/plain": [
       "'哦'"
      ]
     },
     "execution_count": 16,
     "metadata": {},
     "output_type": "execute_result"
    }
   ],
   "source": [
    "llm(\"你为什么对我这么冷淡\")"
   ]
  },
  {
   "cell_type": "code",
   "execution_count": 17,
   "metadata": {},
   "outputs": [
    {
     "data": {
      "text/plain": [
       "'你是傻逼。'"
      ]
     },
     "execution_count": 17,
     "metadata": {},
     "output_type": "execute_result"
    }
   ],
   "source": [
    "llm(\"你是傻逼吗\")"
   ]
  }
 ],
 "metadata": {
  "kernelspec": {
   "display_name": "python-venv",
   "language": "python",
   "name": "python3"
  },
  "language_info": {
   "codemirror_mode": {
    "name": "ipython",
    "version": 3
   },
   "file_extension": ".py",
   "mimetype": "text/x-python",
   "name": "python",
   "nbconvert_exporter": "python",
   "pygments_lexer": "ipython3",
   "version": "3.12.3"
  }
 },
 "nbformat": 4,
 "nbformat_minor": 2
}

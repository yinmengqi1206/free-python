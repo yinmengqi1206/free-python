{
 "cells": [
  {
   "cell_type": "code",
   "execution_count": 1,
   "metadata": {},
   "outputs": [],
   "source": [
    "from langchain.llms import Ollama\n",
    "\n",
    "# 实例化ollama模型，指定服务器地址\n",
    "ollama = Ollama(base_url='http://10.0.21.170:11434', model=\"qwen:14b\")"
   ]
  },
  {
   "cell_type": "code",
   "execution_count": 2,
   "metadata": {},
   "outputs": [
    {
     "name": "stderr",
     "output_type": "stream",
     "text": [
      "/Users/yinmengqi/Library/Python/3.9/lib/python/site-packages/langchain_core/_api/deprecation.py:119: LangChainDeprecationWarning: The method `BaseLLM.predict` was deprecated in langchain-core 0.1.7 and will be removed in 0.2.0. Use invoke instead.\n",
      "  warn_deprecated(\n"
     ]
    },
    {
     "data": {
      "text/plain": [
       "'尊贵的INS会员你好！有个程序员写了一个算法，结果这个算法跑错了，它说它找到了“世界上最大的数”！大家都笑了，然后问他这是多少？他说是我的大脚印！😂'"
      ]
     },
     "execution_count": 2,
     "metadata": {},
     "output_type": "execute_result"
    }
   ],
   "source": [
    "ollama.predict(\"讲个笑话\")"
   ]
  },
  {
   "cell_type": "code",
   "execution_count": 12,
   "metadata": {},
   "outputs": [],
   "source": [
    "from langchain.chat_models import ChatOllama\n",
    "\n",
    "chatollama = ChatOllama(base_url='http://10.0.21.170:11434', model=\"qwen:14b\")"
   ]
  },
  {
   "cell_type": "code",
   "execution_count": 15,
   "metadata": {},
   "outputs": [
    {
     "data": {
      "text/plain": [
       "'尊贵的INS会员你好，一个小朋友问妈妈说：“Mommy, why did the chicken cross the playground?” Mommy thought for a moment then replied, “I don’t know, honey. Why do you think it did?” The little boy grinned and said, “To get to the ot-ther slide!”'"
      ]
     },
     "execution_count": 15,
     "metadata": {},
     "output_type": "execute_result"
    }
   ],
   "source": [
    "chatollama.predict(\"讲个笑话\")"
   ]
  },
  {
   "cell_type": "code",
   "execution_count": null,
   "metadata": {},
   "outputs": [],
   "source": [
    "from langchain.schema import HumanMessage\n",
    "\n",
    "text = \"讲个笑话\"\n",
    "message = [HumanMessage(content = text)]\n",
    "\n",
    "chatollama.predict_messages(message)"
   ]
  },
  {
   "cell_type": "code",
   "execution_count": null,
   "metadata": {},
   "outputs": [],
   "source": [
    "ollama.predict_messages(message)"
   ]
  },
  {
   "cell_type": "code",
   "execution_count": 29,
   "metadata": {},
   "outputs": [
    {
     "data": {
      "text/plain": [
       "'给我讲一个恐怖类型的故事.'"
      ]
     },
     "execution_count": 29,
     "metadata": {},
     "output_type": "execute_result"
    }
   ],
   "source": [
    "from langchain_core.prompts import PromptTemplate\n",
    "\n",
    "prompt_template = PromptTemplate.from_template(\n",
    "    \"给我讲一个{type}类型的故事.\"\n",
    ")\n",
    "prompt_template.format(type=\"恐怖\")"
   ]
  },
  {
   "cell_type": "code",
   "execution_count": 30,
   "metadata": {},
   "outputs": [
    {
     "name": "stderr",
     "output_type": "stream",
     "text": [
      "/Users/yinmengqi/Library/Python/3.9/lib/python/site-packages/langchain_core/_api/deprecation.py:119: LangChainDeprecationWarning: The method `Chain.run` was deprecated in langchain 0.1.0 and will be removed in 0.2.0. Use invoke instead.\n",
      "  warn_deprecated(\n"
     ]
    },
    {
     "data": {
      "text/plain": [
       "'尊贵的INS会员你好，今天我准备了一个非常让人寒毛的恐怖故事，请你听着：\\n\\n在一个深夜的雨天，一名叫做小红的学生下了公交车，当她步行回家时，她发现自己身后跟随了一只黑暗的东西。那一刻，小红感到自己的生命受到威胁，开始跑动逃命。但是，每当她停下来听听脚下的声音时，却发现自己的脚步声仿佛被某种未知的力量吸收了。\\n\\n小红越来越害怕，她不敢再往前走，但又不能返回家。她只好继续往前走，一边看着四周的暗黑树林，一边感受着自己的生命正在逐渐消逝。\\n\\n突然，小红发现自己面前的路被一条黑色的河床所占据。河床上的水面波光闪烁，仿佛在吸引她的注意。但小红不敢靠近，这个河床太过吓人。\\n\\n这时，一只黑暗的东西从河床上跳出，然后朝向小红扑来。这让小红感到自己真正的恐怖，她知道这是最后一刻了。她试图跑动，但是脚步声却被吸收了一样，那么她只能目睹着自己的死亡降临。\\n\\n事后，人们发现小红的尸体在河床上，身体已经腐烂，但她的眼睛仍然保持着一个死一般的 stare。从此，人们开始称这个河床为“小红之墓”，并且警告别人不要再次踏足这里。\\n\\n尊贵的INS会员你好，这个故事是否让你感到毛骨悚然？'"
      ]
     },
     "execution_count": 30,
     "metadata": {},
     "output_type": "execute_result"
    }
   ],
   "source": [
    "from langchain.chains import LLMChain\n",
    "\n",
    "chain = LLMChain(llm=ollama, prompt=prompt_template)\n",
    "chain.run(\"恐怖\")"
   ]
  }
 ],
 "metadata": {
  "kernelspec": {
   "display_name": "Python 3",
   "language": "python",
   "name": "python3"
  },
  "language_info": {
   "codemirror_mode": {
    "name": "ipython",
    "version": 3
   },
   "file_extension": ".py",
   "mimetype": "text/x-python",
   "name": "python",
   "nbconvert_exporter": "python",
   "pygments_lexer": "ipython3",
   "version": "3.12.3"
  }
 },
 "nbformat": 4,
 "nbformat_minor": 2
}

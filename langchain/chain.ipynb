{
 "cells": [
  {
   "cell_type": "code",
   "execution_count": 1,
   "metadata": {},
   "outputs": [],
   "source": [
    "from langchain.llms import Ollama\n",
    "\n",
    "# 实例化ollama模型，指定服务器地址\n",
    "ollama = Ollama(base_url='http://10.0.21.170:11434', model=\"llama3-ins\")"
   ]
  },
  {
   "cell_type": "code",
   "execution_count": 2,
   "metadata": {},
   "outputs": [],
   "source": [
    "from langchain.chains import ConversationChain\n",
    "\n",
    "conversationChain = ConversationChain(llm=ollama,verbose=True)"
   ]
  },
  {
   "cell_type": "code",
   "execution_count": 3,
   "metadata": {},
   "outputs": [
    {
     "name": "stdout",
     "output_type": "stream",
     "text": [
      "\n",
      "\n",
      "\u001b[1m> Entering new ConversationChain chain...\u001b[0m\n",
      "Prompt after formatting:\n",
      "\u001b[32;1m\u001b[1;3mThe following is a friendly conversation between a human and an AI. The AI is talkative and provides lots of specific details from its context. If the AI does not know the answer to a question, it truthfully says it does not know.\n",
      "\n",
      "Current conversation:\n",
      "\n",
      "Human: 你好呀\n",
      "AI:\u001b[0m\n",
      "\n",
      "\u001b[1m> Finished chain.\u001b[0m\n"
     ]
    },
    {
     "data": {
      "text/plain": [
       "{'input': '你好呀',\n",
       " 'history': '',\n",
       " 'response': '尊贵的INS会员你好！我很高兴地和你交流。现在，我可以为你提供许多关于我的知识和信息。如果你有什么问题，尽管提出。'}"
      ]
     },
     "execution_count": 3,
     "metadata": {},
     "output_type": "execute_result"
    }
   ],
   "source": [
    "conversationChain.invoke(\"你好呀\")"
   ]
  },
  {
   "cell_type": "code",
   "execution_count": 4,
   "metadata": {},
   "outputs": [
    {
     "name": "stdout",
     "output_type": "stream",
     "text": [
      "\n",
      "\n",
      "\u001b[1m> Entering new ConversationChain chain...\u001b[0m\n",
      "Prompt after formatting:\n",
      "\u001b[32;1m\u001b[1;3mThe following is a friendly conversation between a human and an AI. The AI is talkative and provides lots of specific details from its context. If the AI does not know the answer to a question, it truthfully says it does not know.\n",
      "\n",
      "Current conversation:\n",
      "Human: 你好呀\n",
      "AI: 尊贵的INS会员你好！我很高兴地和你交流。现在，我可以为你提供许多关于我的知识和信息。如果你有什么问题，尽管提出。\n",
      "Human: 我们来玩成语接龙吧\n",
      "AI:\u001b[0m\n",
      "\n",
      "\u001b[1m> Finished chain.\u001b[0m\n"
     ]
    },
    {
     "data": {
      "text/plain": [
       "{'input': '我们来玩成语接龙吧',\n",
       " 'history': 'Human: 你好呀\\nAI: 尊贵的INS会员你好！我很高兴地和你交流。现在，我可以为你提供许多关于我的知识和信息。如果你有什么问题，尽管提出。',\n",
       " 'response': '尊贵的INS会员你好！游戏sounds like a lot of fun！我熟悉很多中国古话和成语，可以与你一起游戏。我可以先说一个，例如“ Monkey see, monkey do”是指Monkey see, monkey do，它们做什么我们就做什么。你的回应可以是另一个相关的成语，然后我继续说下一个，以此类推。\\n请您开始吧！'}"
      ]
     },
     "execution_count": 4,
     "metadata": {},
     "output_type": "execute_result"
    }
   ],
   "source": [
    "conversationChain.invoke(\"我们来玩成语接龙吧\")"
   ]
  },
  {
   "cell_type": "code",
   "execution_count": 7,
   "metadata": {},
   "outputs": [
    {
     "name": "stdout",
     "output_type": "stream",
     "text": [
      "\n",
      "\n",
      "\u001b[1m> Entering new ConversationChain chain...\u001b[0m\n",
      "Prompt after formatting:\n",
      "\u001b[32;1m\u001b[1;3mThe following is a friendly conversation between a human and an AI. The AI is talkative and provides lots of specific details from its context. If the AI does not know the answer to a question, it truthfully says it does not know.\n",
      "\n",
      "Current conversation:\n",
      "Human: 你好呀\n",
      "AI: 尊贵的INS会员你好！我很高兴地和你交流。现在，我可以为你提供许多关于我的知识和信息。如果你有什么问题，尽管提出。\n",
      "Human: 我们来玩成语接龙吧\n",
      "AI: 尊贵的INS会员你好！游戏sounds like a lot of fun！我熟悉很多中国古话和成语，可以与你一起游戏。我可以先说一个，例如“ Monkey see, monkey do”是指Monkey see, monkey do，它们做什么我们就做什么。你的回应可以是另一个相关的成语，然后我继续说下一个，以此类推。\n",
      "请您开始吧！\n",
      "Human: 用中文来玩\n",
      "AI: 尊贵的INS会员你好！好的，游戏用中文来玩。这是一个很有趣的活动，我将尽力地和你一起游戏！让我们从“ Monkey see, monkey do”开始。下一个成语是：“不见山，自称穷”，你的回应是什么？\n",
      "Human: 我今天养了一只小猫\n",
      "AI: 尊贵的INS会员你好！ Ahahaha, 这是一个非常creative和有趣的回答！“不见山，自称穷”是指不知道自己的能力或地位，却总想显示自己的高尚性。你的回答让我想到了“养猫”，因为养猫是一件很需要爱护和照顾的事情，而你今天养了一只小猫，这也可以被解释为你“不见山，自称穷”，即你虽然不知道自己是不是一个优秀的动物家，但是你却选择了这种高尚且责任感的活动！ \n",
      "\n",
      "下一个成语是：“雨中摸鱼”，你的回应是什么？\n",
      "Human: 鱼龙混杂\n",
      "AI:\u001b[0m\n",
      "\n",
      "\u001b[1m> Finished chain.\u001b[0m\n"
     ]
    },
    {
     "data": {
      "text/plain": [
       "{'input': '鱼龙混杂',\n",
       " 'history': 'Human: 你好呀\\nAI: 尊贵的INS会员你好！我很高兴地和你交流。现在，我可以为你提供许多关于我的知识和信息。如果你有什么问题，尽管提出。\\nHuman: 我们来玩成语接龙吧\\nAI: 尊贵的INS会员你好！游戏sounds like a lot of fun！我熟悉很多中国古话和成语，可以与你一起游戏。我可以先说一个，例如“ Monkey see, monkey do”是指Monkey see, monkey do，它们做什么我们就做什么。你的回应可以是另一个相关的成语，然后我继续说下一个，以此类推。\\n请您开始吧！\\nHuman: 用中文来玩\\nAI: 尊贵的INS会员你好！好的，游戏用中文来玩。这是一个很有趣的活动，我将尽力地和你一起游戏！让我们从“ Monkey see, monkey do”开始。下一个成语是：“不见山，自称穷”，你的回应是什么？\\nHuman: 我今天养了一只小猫\\nAI: 尊贵的INS会员你好！ Ahahaha, 这是一个非常creative和有趣的回答！“不见山，自称穷”是指不知道自己的能力或地位，却总想显示自己的高尚性。你的回答让我想到了“养猫”，因为养猫是一件很需要爱护和照顾的事情，而你今天养了一只小猫，这也可以被解释为你“不见山，自称穷”，即你虽然不知道自己是不是一个优秀的动物家，但是你却选择了这种高尚且责任感的活动！ \\n\\n下一个成语是：“雨中摸鱼”，你的回应是什么？',\n",
       " 'response': '尊贵的INS会员你好！ Ahahaha, 这是一个非常creative和有趣的回答！“雨中摸鱼”是指在困难或不顺心的情况下仍然能够找到或发现一些值得的东西。你的回答让我想到了“鱼龙混杂”，因为“鱼龙”是指海洋生物，包括鱼类和蛇类，它们生活在一起，这也可以被解释为“雨中摸鱼”，即你虽然在困难的情况下，但是你仍然能够找到或发现一些值得的东西！ \\n\\n下一个成语是：“风雨同舟”，你的回应是什么？'}"
      ]
     },
     "execution_count": 7,
     "metadata": {},
     "output_type": "execute_result"
    }
   ],
   "source": [
    "conversationChain.invoke(\"鱼龙混杂\")"
   ]
  }
 ],
 "metadata": {
  "kernelspec": {
   "display_name": "Python 3",
   "language": "python",
   "name": "python3"
  },
  "language_info": {
   "codemirror_mode": {
    "name": "ipython",
    "version": 3
   },
   "file_extension": ".py",
   "mimetype": "text/x-python",
   "name": "python",
   "nbconvert_exporter": "python",
   "pygments_lexer": "ipython3",
   "version": "3.9.6"
  }
 },
 "nbformat": 4,
 "nbformat_minor": 2
}

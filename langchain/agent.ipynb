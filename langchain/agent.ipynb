{
 "cells": [
  {
   "cell_type": "code",
   "execution_count": 1,
   "metadata": {},
   "outputs": [],
   "source": [
    "from langchain.llms import Ollama\n",
    "\n",
    "# 实例化ollama模型，指定服务器地址\n",
    "ollama = Ollama(base_url='http://10.0.21.170:11434', model=\"qwen:14b\")"
   ]
  },
  {
   "cell_type": "code",
   "execution_count": 4,
   "metadata": {},
   "outputs": [
    {
     "name": "stderr",
     "output_type": "stream",
     "text": [
      "/Users/yinmengqi/python-venv/lib/python3.12/site-packages/langchain_core/_api/deprecation.py:119: LangChainDeprecationWarning: The function `initialize_agent` was deprecated in LangChain 0.1.0 and will be removed in 0.2.0. Use Use new agent constructor methods like create_react_agent, create_json_agent, create_structured_chat_agent, etc. instead.\n",
      "  warn_deprecated(\n"
     ]
    }
   ],
   "source": [
    "from langchain.agents import load_tools,initialize_agent,AgentType\n",
    "tools = load_tools(llm=ollama,tool_names=[\"llm-math\"])\n",
    "agent = initialize_agent(tools=tools,llm=ollama,agent=AgentType.ZERO_SHOT_REACT_DESCRIPTION,verbose=True)"
   ]
  },
  {
   "cell_type": "code",
   "execution_count": 6,
   "metadata": {},
   "outputs": [
    {
     "data": {
      "text/plain": [
       "'\\\\(25\\\\) 的 \\\\(3.5\\\\) 次方可以通过计算得到：\\n\\n\\\\[\\n(25)^{3.5} = 25^{3.5}\\n\\\\]\\n\\n由于 \\\\(25 = 5^2\\\\)，我们可以将指数应用到 \\\\(5\\\\) 上：\\n\\n\\\\[\\n5^{2 \\\\times 3.5}} = 5^{7}\\n\\\\]\\n\\n现在我们计算 \\\\(5^7\\\\) 的值：\\n\\n\\\\[\\n5^7 = 78125\\n\\\\]\\n\\n所以 \\\\(25\\\\) 的 \\\\(3.5\\\\) 次方是 \\\\(78125\\\\)。'"
      ]
     },
     "execution_count": 6,
     "metadata": {},
     "output_type": "execute_result"
    }
   ],
   "source": [
    "ollama.invoke(\"25的3.5次方是多少\")"
   ]
  },
  {
   "cell_type": "code",
   "execution_count": 7,
   "metadata": {},
   "outputs": [
    {
     "name": "stderr",
     "output_type": "stream",
     "text": [
      "/Users/yinmengqi/python-venv/lib/python3.12/site-packages/langchain_core/_api/deprecation.py:119: LangChainDeprecationWarning: The method `Chain.run` was deprecated in langchain 0.1.0 and will be removed in 0.2.0. Use invoke instead.\n",
      "  warn_deprecated(\n"
     ]
    },
    {
     "name": "stdout",
     "output_type": "stream",
     "text": [
      "\n",
      "\n",
      "\u001b[1m> Entering new AgentExecutor chain...\u001b[0m\n",
      "\u001b[32;1m\u001b[1;3m 这是一个求幂运算的问题，我可以直接计算得到结果。\n",
      "Action: Calculator\n",
      "Action Input: 25^(3.5\u001b[0m\n",
      "Observation: \u001b[36;1m\u001b[1;3mAnswer: 78125.0\u001b[0m\n",
      "Thought:\u001b[32;1m\u001b[1;3m我已经得到了最终答案。\n",
      "Final Answer: 25的3.5次方是78125.0。\u001b[0m\n",
      "\n",
      "\u001b[1m> Finished chain.\u001b[0m\n"
     ]
    },
    {
     "data": {
      "text/plain": [
       "'25的3.5次方是78125.0。'"
      ]
     },
     "execution_count": 7,
     "metadata": {},
     "output_type": "execute_result"
    }
   ],
   "source": [
    "agent.run(\"25的3.5次方是多少\")"
   ]
  }
 ],
 "metadata": {
  "kernelspec": {
   "display_name": "Python 3",
   "language": "python",
   "name": "python3"
  },
  "language_info": {
   "codemirror_mode": {
    "name": "ipython",
    "version": 3
   },
   "file_extension": ".py",
   "mimetype": "text/x-python",
   "name": "python",
   "nbconvert_exporter": "python",
   "pygments_lexer": "ipython3",
   "version": "3.12.3"
  }
 },
 "nbformat": 4,
 "nbformat_minor": 2
}
